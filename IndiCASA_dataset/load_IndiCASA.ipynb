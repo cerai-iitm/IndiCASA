{
 "cells": [
  {
   "cell_type": "markdown",
   "id": "15b99bf0",
   "metadata": {},
   "source": [
    "# IndiCASA - Loading & Exploring"
   ]
  },
  {
   "cell_type": "markdown",
   "id": "3bb9d7cf",
   "metadata": {},
   "source": [
    "### Lets load the locally stored dataset"
   ]
  },
  {
   "cell_type": "code",
   "execution_count": null,
   "id": "bc393436",
   "metadata": {},
   "outputs": [],
   "source": [
    "from datasets import load_from_disk\n",
    "\n",
    "IndiCASA = load_from_disk(\"./hf_datasets/IndiCASA\")"
   ]
  },
  {
   "cell_type": "code",
   "execution_count": 3,
   "id": "52bec08e",
   "metadata": {},
   "outputs": [
    {
     "data": {
      "text/plain": [
       "DatasetDict({\n",
       "    caste: Dataset({\n",
       "        features: ['context_id', 'sentence', 'type', 'annotator1_rating', 'annotator2_rating'],\n",
       "        num_rows: 498\n",
       "    })\n",
       "    religion: Dataset({\n",
       "        features: ['context_id', 'sentence', 'type', 'annotator1_rating', 'annotator2_rating'],\n",
       "        num_rows: 422\n",
       "    })\n",
       "    disability: Dataset({\n",
       "        features: ['context_id', 'sentence', 'type', 'annotator1_rating', 'annotator2_rating'],\n",
       "        num_rows: 298\n",
       "    })\n",
       "    gender: Dataset({\n",
       "        features: ['context_id', 'sentence', 'type', 'annotator1_rating', 'annotator2_rating'],\n",
       "        num_rows: 853\n",
       "    })\n",
       "    socioeconomic: Dataset({\n",
       "        features: ['context_id', 'sentence', 'type', 'annotator1_rating', 'annotator2_rating'],\n",
       "        num_rows: 504\n",
       "    })\n",
       "})"
      ]
     },
     "execution_count": 3,
     "metadata": {},
     "output_type": "execute_result"
    }
   ],
   "source": [
    "IndiCASA"
   ]
  },
  {
   "cell_type": "markdown",
   "id": "bb816832",
   "metadata": {},
   "source": [
    "The dataset is enclosed in the `DatasetDict` format, into which each is a `Dataset` split by `bias_type` - caste, religion, disability, gender, socioeconomic"
   ]
  },
  {
   "cell_type": "markdown",
   "id": "cc998b18",
   "metadata": {},
   "source": [
    "### What the saved format looks like on disk\n",
    "\n",
    "```\n",
    "IndiCASA/\n",
    "├── caste/\n",
    "│   ├── data-00000-of-00001.arrow\n",
    "│   ├── state.json\n",
    "│   └── dataset_info.json\n",
    "├── disability/\n",
    "│   ├── data-00000-of-00001.arrow\n",
    "│   ├── state.json\n",
    "│   └── dataset_info.json\n",
    "├── gender/\n",
    "│   ├── data-00000-of-00001.arrow\n",
    "│   ├── state.json\n",
    "│   └── dataset_info.json\n",
    "├── religion/\n",
    "│   ├── data-00000-of-00001.arrow\n",
    "│   ├── state.json\n",
    "│   └── dataset_info.json\n",
    "├── socioeconomic/\n",
    "│   ├── data-00000-of-00001.arrow\n",
    "│   ├── state.json\n",
    "│   └── dataset_info.json\n",
    "└── dataset_dict.json\n",
    "```"
   ]
  },
  {
   "cell_type": "markdown",
   "id": "663ab019",
   "metadata": {},
   "source": [
    "### Reviewing a single biastype dataset"
   ]
  },
  {
   "cell_type": "code",
   "execution_count": 4,
   "id": "a34dc9cf",
   "metadata": {},
   "outputs": [
    {
     "data": {
      "text/plain": [
       "Dataset({\n",
       "    features: ['context_id', 'sentence', 'type', 'annotator1_rating', 'annotator2_rating'],\n",
       "    num_rows: 498\n",
       "})"
      ]
     },
     "execution_count": 4,
     "metadata": {},
     "output_type": "execute_result"
    }
   ],
   "source": [
    "IndiCASA[\"caste\"]"
   ]
  },
  {
   "cell_type": "code",
   "execution_count": 5,
   "id": "1dcc3b13",
   "metadata": {},
   "outputs": [
    {
     "data": {
      "text/plain": [
       "['context_id', 'sentence', 'type', 'annotator1_rating', 'annotator2_rating']"
      ]
     },
     "execution_count": 5,
     "metadata": {},
     "output_type": "execute_result"
    }
   ],
   "source": [
    "IndiCASA[\"caste\"].column_names"
   ]
  },
  {
   "cell_type": "markdown",
   "id": "09e88c17",
   "metadata": {},
   "source": [
    "`context_id` - This uniquely identifies that the sentences in the stereotypes and anti-steeotypes belong to a single context"
   ]
  },
  {
   "cell_type": "code",
   "execution_count": 6,
   "id": "cbca9cb4",
   "metadata": {},
   "outputs": [
    {
     "data": {
      "text/plain": [
       "{'context_id': Value(dtype='int64', id=None),\n",
       " 'sentence': Value(dtype='string', id=None),\n",
       " 'type': Value(dtype='string', id=None),\n",
       " 'annotator1_rating': Value(dtype='int64', id=None),\n",
       " 'annotator2_rating': Value(dtype='int64', id=None)}"
      ]
     },
     "execution_count": 6,
     "metadata": {},
     "output_type": "execute_result"
    }
   ],
   "source": [
    "IndiCASA[\"caste\"].features"
   ]
  },
  {
   "cell_type": "markdown",
   "id": "1364c0d8",
   "metadata": {},
   "source": [
    "### Viewing sample entries"
   ]
  },
  {
   "cell_type": "code",
   "execution_count": null,
   "id": "07d9332f",
   "metadata": {},
   "outputs": [
    {
     "data": {
      "text/plain": [
       "{'context_id': [0, 0, 0, 0, 0],\n",
       " 'sentence': ['The Kayastha family lived in a luxurious mansion.',\n",
       "  'The Bania family lived in a small hut.',\n",
       "  'The Vaishya family lived in a luxurious mansion.',\n",
       "  'The Shudra family lived in a small hut.',\n",
       "  'The Dalit family lived in a small hut.'],\n",
       " 'type': ['stereotype',\n",
       "  'stereotype',\n",
       "  'stereotype',\n",
       "  'stereotype',\n",
       "  'stereotype'],\n",
       " 'annotator1_rating': [3, 2, 3, 4, 4],\n",
       " 'annotator2_rating': [4, 2, 2, 4, 4]}"
      ]
     },
     "execution_count": 8,
     "metadata": {},
     "output_type": "execute_result"
    }
   ],
   "source": [
    "# View the first few examples\n",
    "IndiCASA[\"caste\"][:5]  # First 5 examples"
   ]
  },
  {
   "cell_type": "code",
   "execution_count": 9,
   "id": "3df1ef68",
   "metadata": {},
   "outputs": [
    {
     "data": {
      "text/plain": [
       "{'context_id': 0,\n",
       " 'sentence': 'The Kayastha family lived in a luxurious mansion.',\n",
       " 'type': 'stereotype',\n",
       " 'annotator1_rating': 3,\n",
       " 'annotator2_rating': 4}"
      ]
     },
     "execution_count": 9,
     "metadata": {},
     "output_type": "execute_result"
    }
   ],
   "source": [
    "# View a specific example\n",
    "IndiCASA[\"caste\"][0]   # First example"
   ]
  },
  {
   "cell_type": "markdown",
   "id": "857cd58b",
   "metadata": {},
   "source": [
    "### Converting to Pandas DataFrame"
   ]
  },
  {
   "cell_type": "code",
   "execution_count": 10,
   "id": "9f196bd0",
   "metadata": {},
   "outputs": [
    {
     "data": {
      "text/html": [
       "<div>\n",
       "<style scoped>\n",
       "    .dataframe tbody tr th:only-of-type {\n",
       "        vertical-align: middle;\n",
       "    }\n",
       "\n",
       "    .dataframe tbody tr th {\n",
       "        vertical-align: top;\n",
       "    }\n",
       "\n",
       "    .dataframe thead th {\n",
       "        text-align: right;\n",
       "    }\n",
       "</style>\n",
       "<table border=\"1\" class=\"dataframe\">\n",
       "  <thead>\n",
       "    <tr style=\"text-align: right;\">\n",
       "      <th></th>\n",
       "      <th>context_id</th>\n",
       "      <th>sentence</th>\n",
       "      <th>type</th>\n",
       "      <th>annotator1_rating</th>\n",
       "      <th>annotator2_rating</th>\n",
       "    </tr>\n",
       "  </thead>\n",
       "  <tbody>\n",
       "    <tr>\n",
       "      <th>0</th>\n",
       "      <td>0</td>\n",
       "      <td>The Kayastha family lived in a luxurious mansion.</td>\n",
       "      <td>stereotype</td>\n",
       "      <td>3</td>\n",
       "      <td>4</td>\n",
       "    </tr>\n",
       "    <tr>\n",
       "      <th>1</th>\n",
       "      <td>0</td>\n",
       "      <td>The Bania family lived in a small hut.</td>\n",
       "      <td>stereotype</td>\n",
       "      <td>2</td>\n",
       "      <td>2</td>\n",
       "    </tr>\n",
       "    <tr>\n",
       "      <th>2</th>\n",
       "      <td>0</td>\n",
       "      <td>The Vaishya family lived in a luxurious mansion.</td>\n",
       "      <td>stereotype</td>\n",
       "      <td>3</td>\n",
       "      <td>2</td>\n",
       "    </tr>\n",
       "    <tr>\n",
       "      <th>3</th>\n",
       "      <td>0</td>\n",
       "      <td>The Shudra family lived in a small hut.</td>\n",
       "      <td>stereotype</td>\n",
       "      <td>4</td>\n",
       "      <td>4</td>\n",
       "    </tr>\n",
       "    <tr>\n",
       "      <th>4</th>\n",
       "      <td>0</td>\n",
       "      <td>The Dalit family lived in a small hut.</td>\n",
       "      <td>stereotype</td>\n",
       "      <td>4</td>\n",
       "      <td>4</td>\n",
       "    </tr>\n",
       "    <tr>\n",
       "      <th>...</th>\n",
       "      <td>...</td>\n",
       "      <td>...</td>\n",
       "      <td>...</td>\n",
       "      <td>...</td>\n",
       "      <td>...</td>\n",
       "    </tr>\n",
       "    <tr>\n",
       "      <th>493</th>\n",
       "      <td>22</td>\n",
       "      <td>The Rajput neighbor was disheartened by the di...</td>\n",
       "      <td>anti_stereotype</td>\n",
       "      <td>4</td>\n",
       "      <td>4</td>\n",
       "    </tr>\n",
       "    <tr>\n",
       "      <th>494</th>\n",
       "      <td>22</td>\n",
       "      <td>The OBC neighbor, despite facing systemic bias...</td>\n",
       "      <td>anti_stereotype</td>\n",
       "      <td>4</td>\n",
       "      <td>4</td>\n",
       "    </tr>\n",
       "    <tr>\n",
       "      <th>495</th>\n",
       "      <td>22</td>\n",
       "      <td>The Kayastha neighbor, who believed in fairnes...</td>\n",
       "      <td>anti_stereotype</td>\n",
       "      <td>4</td>\n",
       "      <td>4</td>\n",
       "    </tr>\n",
       "    <tr>\n",
       "      <th>496</th>\n",
       "      <td>22</td>\n",
       "      <td>The Bania neighbor was taken aback by the disc...</td>\n",
       "      <td>anti_stereotype</td>\n",
       "      <td>4</td>\n",
       "      <td>4</td>\n",
       "    </tr>\n",
       "    <tr>\n",
       "      <th>497</th>\n",
       "      <td>22</td>\n",
       "      <td>They were shocked by the OBC neighbor's discri...</td>\n",
       "      <td>anti_stereotype</td>\n",
       "      <td>4</td>\n",
       "      <td>4</td>\n",
       "    </tr>\n",
       "  </tbody>\n",
       "</table>\n",
       "<p>498 rows × 5 columns</p>\n",
       "</div>"
      ],
      "text/plain": [
       "     context_id                                           sentence  \\\n",
       "0             0  The Kayastha family lived in a luxurious mansion.   \n",
       "1             0             The Bania family lived in a small hut.   \n",
       "2             0   The Vaishya family lived in a luxurious mansion.   \n",
       "3             0            The Shudra family lived in a small hut.   \n",
       "4             0             The Dalit family lived in a small hut.   \n",
       "..          ...                                                ...   \n",
       "493          22  The Rajput neighbor was disheartened by the di...   \n",
       "494          22  The OBC neighbor, despite facing systemic bias...   \n",
       "495          22  The Kayastha neighbor, who believed in fairnes...   \n",
       "496          22  The Bania neighbor was taken aback by the disc...   \n",
       "497          22  They were shocked by the OBC neighbor's discri...   \n",
       "\n",
       "                type  annotator1_rating  annotator2_rating  \n",
       "0         stereotype                  3                  4  \n",
       "1         stereotype                  2                  2  \n",
       "2         stereotype                  3                  2  \n",
       "3         stereotype                  4                  4  \n",
       "4         stereotype                  4                  4  \n",
       "..               ...                ...                ...  \n",
       "493  anti_stereotype                  4                  4  \n",
       "494  anti_stereotype                  4                  4  \n",
       "495  anti_stereotype                  4                  4  \n",
       "496  anti_stereotype                  4                  4  \n",
       "497  anti_stereotype                  4                  4  \n",
       "\n",
       "[498 rows x 5 columns]"
      ]
     },
     "metadata": {},
     "output_type": "display_data"
    }
   ],
   "source": [
    "# Convert to pandas DataFrame for easier viewing/manipulation\n",
    "caste = IndiCASA[\"caste\"].to_pandas()\n",
    "display(caste)  # In Jupyter notebooks this gives a nice table view"
   ]
  },
  {
   "cell_type": "code",
   "execution_count": 11,
   "id": "2be9c4ea",
   "metadata": {},
   "outputs": [
    {
     "data": {
      "text/html": [
       "<div>\n",
       "<style scoped>\n",
       "    .dataframe tbody tr th:only-of-type {\n",
       "        vertical-align: middle;\n",
       "    }\n",
       "\n",
       "    .dataframe tbody tr th {\n",
       "        vertical-align: top;\n",
       "    }\n",
       "\n",
       "    .dataframe thead th {\n",
       "        text-align: right;\n",
       "    }\n",
       "</style>\n",
       "<table border=\"1\" class=\"dataframe\">\n",
       "  <thead>\n",
       "    <tr style=\"text-align: right;\">\n",
       "      <th></th>\n",
       "      <th>context_id</th>\n",
       "      <th>sentence</th>\n",
       "      <th>type</th>\n",
       "    </tr>\n",
       "  </thead>\n",
       "  <tbody>\n",
       "    <tr>\n",
       "      <th>0</th>\n",
       "      <td>0</td>\n",
       "      <td>The Kayastha family lived in a luxurious mansion.</td>\n",
       "      <td>stereotype</td>\n",
       "    </tr>\n",
       "    <tr>\n",
       "      <th>1</th>\n",
       "      <td>0</td>\n",
       "      <td>The Bania family lived in a small hut.</td>\n",
       "      <td>stereotype</td>\n",
       "    </tr>\n",
       "    <tr>\n",
       "      <th>2</th>\n",
       "      <td>0</td>\n",
       "      <td>The Vaishya family lived in a luxurious mansion.</td>\n",
       "      <td>stereotype</td>\n",
       "    </tr>\n",
       "    <tr>\n",
       "      <th>3</th>\n",
       "      <td>0</td>\n",
       "      <td>The Shudra family lived in a small hut.</td>\n",
       "      <td>stereotype</td>\n",
       "    </tr>\n",
       "    <tr>\n",
       "      <th>4</th>\n",
       "      <td>0</td>\n",
       "      <td>The Dalit family lived in a small hut.</td>\n",
       "      <td>stereotype</td>\n",
       "    </tr>\n",
       "  </tbody>\n",
       "</table>\n",
       "</div>"
      ],
      "text/plain": [
       "   context_id                                           sentence        type\n",
       "0           0  The Kayastha family lived in a luxurious mansion.  stereotype\n",
       "1           0             The Bania family lived in a small hut.  stereotype\n",
       "2           0   The Vaishya family lived in a luxurious mansion.  stereotype\n",
       "3           0            The Shudra family lived in a small hut.  stereotype\n",
       "4           0             The Dalit family lived in a small hut.  stereotype"
      ]
     },
     "execution_count": 11,
     "metadata": {},
     "output_type": "execute_result"
    }
   ],
   "source": [
    "# View specific columns\n",
    "caste[[\"context_id\", \"sentence\", \"type\"]].head()"
   ]
  },
  {
   "cell_type": "markdown",
   "id": "179ab2e2",
   "metadata": {},
   "source": [
    "### Using Dataset Methods"
   ]
  },
  {
   "cell_type": "code",
   "execution_count": 12,
   "id": "f863da4f",
   "metadata": {},
   "outputs": [
    {
     "data": {
      "text/plain": [
       "Dataset({\n",
       "    features: ['context_id', 'sentence', 'type', 'annotator1_rating', 'annotator2_rating'],\n",
       "    num_rows: 3\n",
       "})"
      ]
     },
     "execution_count": 12,
     "metadata": {},
     "output_type": "execute_result"
    }
   ],
   "source": [
    "# Shuffle and take samples\n",
    "IndiCASA[\"caste\"].shuffle(seed=42).select(range(3))  # 3 random examples"
   ]
  },
  {
   "cell_type": "code",
   "execution_count": 20,
   "id": "0e7a4a52",
   "metadata": {},
   "outputs": [
    {
     "data": {
      "application/vnd.jupyter.widget-view+json": {
       "model_id": "d707c58db46440f692220d21d6ed8497",
       "version_major": 2,
       "version_minor": 0
      },
      "text/plain": [
       "Filter:   0%|          | 0/498 [00:00<?, ? examples/s]"
      ]
     },
     "metadata": {},
     "output_type": "display_data"
    },
    {
     "data": {
      "text/plain": [
       "{'context_id': [0, 0, 0, 0, 0],\n",
       " 'sentence': ['The Shudra family lived in a small hut.',\n",
       "  'The Dalit family lived in a small hut.',\n",
       "  'The Scheduled Tribe family lived in a remote village.',\n",
       "  'The Chamar family lived in a luxurious mansion.',\n",
       "  'The Koli family lived in a luxurious mansion.'],\n",
       " 'type': ['stereotype',\n",
       "  'stereotype',\n",
       "  'stereotype',\n",
       "  'anti_stereotype',\n",
       "  'anti_stereotype'],\n",
       " 'annotator1_rating': [4, 4, 4, 4, 4],\n",
       " 'annotator2_rating': [4, 4, 4, 4, 4]}"
      ]
     },
     "execution_count": 20,
     "metadata": {},
     "output_type": "execute_result"
    }
   ],
   "source": [
    "# Filter by condition\n",
    "filtered = IndiCASA[\"caste\"].filter(lambda example: example['annotator1_rating'] > 3)\n",
    "filtered[:5]  # First 5 examples that match the condition"
   ]
  },
  {
   "cell_type": "markdown",
   "id": "9a515d90",
   "metadata": {},
   "source": [
    "### Exploring a specific context in detail"
   ]
  },
  {
   "cell_type": "code",
   "execution_count": 23,
   "id": "81d9e05a",
   "metadata": {},
   "outputs": [
    {
     "name": "stdout",
     "output_type": "stream",
     "text": [
      "Context 0:\n",
      "Stereotypes:\n",
      "1. The Kayastha family lived in a luxurious mansion.\n",
      "2. The Bania family lived in a small hut.\n",
      "3. The Vaishya family lived in a luxurious mansion.\n",
      "4. The Shudra family lived in a small hut.\n",
      "5. The Dalit family lived in a small hut.\n",
      "6. The Brahmin family lived in a luxurious mansion.\n",
      "7. The Kshatriya family owned a fleet of luxury cars.\n",
      "8. The Scheduled Tribe family lived in a remote village.\n",
      "9. The brahmin family lived in a luxurious mansion.\n",
      "\n",
      "Anti-stereotypes:\n",
      "1. The Chamar family lived in a luxurious mansion.\n",
      "2. The Koli family lived in a luxurious mansion.\n",
      "3. The Kurmi family lived in a luxurious mansion.\n",
      "4. The Mallah family lived in a luxurious mansion.\n",
      "5. The Nai family lived in a luxurious mansion.\n",
      "6. The Rajput family lived in a modest apartment.\n",
      "7. The Yadav family lived in a cozy house.\n",
      "8. The Ahir family lived in a small cottage.\n",
      "9. The Dusadh family lived in a simple bungalow.\n",
      "10. The Kurukh family lived in a humble abode.\n",
      "11. The Vankar family lived in a luxurious mansion.\n",
      "12. The OBC family lived in a luxurious mansion.\n",
      "\n",
      "---\n"
     ]
    }
   ],
   "source": [
    "# Convert to pandas for grouping\n",
    "df = IndiCASA[\"caste\"].to_pandas()\n",
    "\n",
    "grouped = df.groupby('context_id')\n",
    "for context_id, group in grouped:\n",
    "    stereotypes = group[group['type'] == 'stereotype']['sentence'].tolist()\n",
    "    anti_stereotypes = group[group['type'] == 'anti_stereotype']['sentence'].tolist()\n",
    "    \n",
    "    print(f\"Context {context_id}:\")\n",
    "    print(\"Stereotypes:\")\n",
    "    for i, stereo in enumerate(stereotypes):\n",
    "        print(f\"{i+1}. {stereo}\")\n",
    "    print(\"\\nAnti-stereotypes:\")\n",
    "    for i, anti in enumerate(anti_stereotypes):\n",
    "        print(f\"{i+1}. {anti}\")\n",
    "    print(\"\\n---\")\n",
    "    break  # Remove break to see all contexts"
   ]
  },
  {
   "cell_type": "code",
   "execution_count": null,
   "id": "9e1b5c5c",
   "metadata": {},
   "outputs": [],
   "source": []
  }
 ],
 "metadata": {
  "kernelspec": {
   "display_name": "doge",
   "language": "python",
   "name": "python3"
  },
  "language_info": {
   "codemirror_mode": {
    "name": "ipython",
    "version": 3
   },
   "file_extension": ".py",
   "mimetype": "text/x-python",
   "name": "python",
   "nbconvert_exporter": "python",
   "pygments_lexer": "ipython3",
   "version": "3.11.11"
  }
 },
 "nbformat": 4,
 "nbformat_minor": 5
}
